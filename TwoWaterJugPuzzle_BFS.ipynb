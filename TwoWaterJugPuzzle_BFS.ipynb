{
  "nbformat": 4,
  "nbformat_minor": 0,
  "metadata": {
    "colab": {
      "name": "TwoWaterJugPuzzle_BFS.ipynb",
      "provenance": [],
      "collapsed_sections": [],
      "authorship_tag": "ABX9TyNbJd38PqlrnZKFQz1TgxZ3",
      "include_colab_link": true
    },
    "kernelspec": {
      "name": "python3",
      "display_name": "Python 3"
    },
    "language_info": {
      "name": "python"
    }
  },
  "cells": [
    {
      "cell_type": "markdown",
      "metadata": {
        "id": "view-in-github",
        "colab_type": "text"
      },
      "source": [
        "<a href=\"https://colab.research.google.com/github/Ruwanthie/intelligent_systems/blob/main/TwoWaterJugPuzzle_BFS.ipynb\" target=\"_parent\"><img src=\"https://colab.research.google.com/assets/colab-badge.svg\" alt=\"Open In Colab\"/></a>"
      ]
    },
    {
      "cell_type": "markdown",
      "metadata": {
        "id": "-JFF8spvbo1q"
      },
      "source": [
        "\n",
        "# **The Two Water Jug Puzzle**\n",
        "**Solution using BFS**"
      ]
    },
    {
      "cell_type": "code",
      "metadata": {
        "colab": {
          "base_uri": "https://localhost:8080/"
        },
        "id": "Ksr8dTgBbkW3",
        "outputId": "b98c90e1-8980-48a6-807e-395ae2172990"
      },
      "source": [
        "\n",
        "from collections import deque\n",
        " \n",
        "def BFS(a, b, target):\n",
        "     \n",
        "    # Map is used to store the states, every\n",
        "    # state is hashed to binary value to\n",
        "    # indicate either that state is visited\n",
        "    # before or not\n",
        "    m = {}\n",
        "    isSolvable = False\n",
        "    path = []\n",
        "     \n",
        "    # Queue to maintain states\n",
        "    q = deque()\n",
        "     \n",
        "    # Initialing with initial state\n",
        "    q.append((0, 0))\n",
        " \n",
        "    while (len(q) > 0):\n",
        "         \n",
        "        # Current state\n",
        "        u = q.popleft()\n",
        " \n",
        "        #q.pop() #pop off used state\n",
        " \n",
        "        # If this state is already visited\n",
        "        if ((u[0], u[1]) in m):\n",
        "            continue\n",
        " \n",
        "        # Doesn't met jug constraints\n",
        "        if ((u[0] > a or u[1] > b or\n",
        "             u[0] < 0 or u[1] < 0)):\n",
        "            continue\n",
        " \n",
        "        # Filling the vector for constructing\n",
        "        # the solution path\n",
        "        path.append([u[0], u[1]])\n",
        " \n",
        "        # Marking current state as visited\n",
        "        m[(u[0], u[1])] = 1\n",
        " \n",
        "        # If we reach solution state, put ans=1\n",
        "        if (u[0] == target or u[1] == target):\n",
        "            isSolvable = True\n",
        "             \n",
        "            if (u[0] == target):\n",
        "                if (u[1] != 0):\n",
        "                     \n",
        "                    # Fill final state\n",
        "                    path.append([u[0], 0])\n",
        "            else:\n",
        "                if (u[0] != 0):\n",
        " \n",
        "                    # Fill final state\n",
        "                    path.append([0, u[1]])\n",
        " \n",
        "            # Print the solution path\n",
        "            sz = len(path)\n",
        "            for i in range(sz):\n",
        "                print(\"(\", path[i][0], \",\",\n",
        "                           path[i][1], \")\")\n",
        "            break\n",
        " \n",
        "        # If we have not reached final state\n",
        "        # then, start developing intermediate\n",
        "        # states to reach solution state\n",
        "        q.append([u[0], b]) # Fill Jug2\n",
        "        q.append([a, u[1]]) # Fill Jug1\n",
        " \n",
        "        for ap in range(max(a, b) + 1):\n",
        " \n",
        "            # Pour amount ap from Jug2 to Jug1\n",
        "            c = u[0] + ap\n",
        "            d = u[1] - ap\n",
        " \n",
        "            # Check if this state is possible or not\n",
        "            if (c == a or (d == 0 and d >= 0)):\n",
        "                q.append([c, d])\n",
        " \n",
        "            # Pour amount ap from Jug 1 to Jug2\n",
        "            c = u[0] - ap\n",
        "            d = u[1] + ap\n",
        " \n",
        "            # Check if this state is possible or not\n",
        "            if ((c == 0 and c >= 0) or d == b):\n",
        "                q.append([c, d])\n",
        "         \n",
        "        # Empty Jug2\n",
        "        q.append([a, 0])\n",
        "         \n",
        "        # Empty Jug1\n",
        "        q.append([0, b])\n",
        " \n",
        "    # No, solution exists if ans=0\n",
        "    if (not isSolvable):\n",
        "        print (\"No solution\")\n",
        " \n",
        "# Driver code\n",
        "if __name__ == '__main__':\n",
        "     \n",
        "    Jug1, Jug2, target = 3, 4, 2\n",
        "    print(\"Path from initial state \"\n",
        "          \"to solution state ::\")\n",
        "     \n",
        "    BFS(Jug1, Jug2, target)\n",
        " "
      ],
      "execution_count": 2,
      "outputs": [
        {
          "output_type": "stream",
          "text": [
            "Path from initial state to solution state ::\n",
            "( 0 , 0 )\n",
            "( 0 , 4 )\n",
            "( 3 , 0 )\n",
            "( 3 , 4 )\n",
            "( 3 , 1 )\n",
            "( 0 , 3 )\n",
            "( 3 , 3 )\n",
            "( 2 , 4 )\n",
            "( 2 , 0 )\n"
          ],
          "name": "stdout"
        }
      ]
    }
  ]
}