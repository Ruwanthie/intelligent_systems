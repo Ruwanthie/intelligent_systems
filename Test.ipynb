{
  "nbformat": 4,
  "nbformat_minor": 0,
  "metadata": {
    "colab": {
      "name": "Test.ipynb",
      "provenance": [],
      "authorship_tag": "ABX9TyNV0/39ki1FJqkUsFpp/hbD",
      "include_colab_link": true
    },
    "kernelspec": {
      "name": "python3",
      "display_name": "Python 3"
    },
    "language_info": {
      "name": "python"
    }
  },
  "cells": [
    {
      "cell_type": "markdown",
      "metadata": {
        "id": "view-in-github",
        "colab_type": "text"
      },
      "source": [
        "<a href=\"https://colab.research.google.com/github/Ruwanthie/intelligent_systems/blob/main/Test.ipynb\" target=\"_parent\"><img src=\"https://colab.research.google.com/assets/colab-badge.svg\" alt=\"Open In Colab\"/></a>"
      ]
    },
    {
      "cell_type": "markdown",
      "metadata": {
        "id": "S-etTnpdmbBL"
      },
      "source": [
        "**This is the introduction**"
      ]
    },
    {
      "cell_type": "code",
      "metadata": {
        "colab": {
          "base_uri": "https://localhost:8080/"
        },
        "id": "EvT4AgollrDF",
        "outputId": "d86ac7f7-3c50-4a0a-ea3d-e02478506612"
      },
      "source": [
        "lst = [1,2,3,4,5]\n",
        "\n",
        "for i in lst:\n",
        "        print(i**3)"
      ],
      "execution_count": 1,
      "outputs": [
        {
          "output_type": "stream",
          "text": [
            "1\n",
            "8\n",
            "27\n",
            "64\n",
            "125\n"
          ],
          "name": "stdout"
        }
      ]
    }
  ]
}